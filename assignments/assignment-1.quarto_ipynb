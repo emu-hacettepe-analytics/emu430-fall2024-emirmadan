{
  "cells": [
    {
      "cell_type": "markdown",
      "metadata": {},
      "source": [
        "---\n",
        "title: \"Assignment 1\"\n",
        "---\n",
        "\n",
        "\n",
        "library(rmarkdown)\n",
        "\n",
        "# Assignment 1\n",
        "\n",
        "```{1 + 1}\n",
        "```\n",
        "\n",
        "My first assignment has two parts.\n",
        "\n",
        "## (a)\n",
        "\n",
        "## (b)\n",
        "\n",
        "#Firstly I installed the dslabs.\n",
        "\n",
        "```         \n",
        "install.packages(dslabs)\n",
        "```\n",
        "\n",
        "#Secondly I opened the dslabs with the library command in my script.\n",
        "\n",
        "library(polls_us_election_2016)"
      ],
      "id": "9454c682"
    }
  ],
  "metadata": {
    "kernelspec": {
      "display_name": "Python 3",
      "language": "python",
      "name": "python3"
    }
  },
  "nbformat": 4,
  "nbformat_minor": 5
}